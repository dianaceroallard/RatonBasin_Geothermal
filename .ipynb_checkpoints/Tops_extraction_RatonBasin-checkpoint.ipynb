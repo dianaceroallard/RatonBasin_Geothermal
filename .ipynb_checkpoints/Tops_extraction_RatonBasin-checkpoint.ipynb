{
 "cells": [
  {
   "cell_type": "code",
   "execution_count": 100,
   "metadata": {},
   "outputs": [],
   "source": [
    "#import packages\n",
    "\n",
    "import pandas as pd\n",
    "import numpy as np\n",
    "import plotly.express as px\n",
    "import plotly.graph_objects as go\n",
    "import geopandas as gpd\n",
    "import matplotlib.pyplot as plt\n",
    "import warnings\n",
    "import time\n",
    "\n",
    "import requests\n",
    "warnings.filterwarnings('ignore')"
   ]
  },
  {
   "cell_type": "code",
   "execution_count": 5,
   "metadata": {},
   "outputs": [],
   "source": [
    "df_CO = pd.read_csv('./data/COGCC wells.csv') # downloaded from COGCC all Colorado wells"
   ]
  },
  {
   "cell_type": "code",
   "execution_count": 7,
   "metadata": {},
   "outputs": [],
   "source": [
    "#Extract wells only Raton Basin \n",
    "twp_list = ['31S', '32S', '33S', '34S', '35S']\n",
    "range_list = ['61W', '62W', '63W', '64W', '65W', '66W', '67W', '68W']\n",
    "temp = df_CO[df_CO['Township'].isin(twp_list)] \n",
    "df_Raton_CO = temp[temp['Range'].isin(range_list)] "
   ]
  },
  {
   "cell_type": "code",
   "execution_count": 11,
   "metadata": {},
   "outputs": [
    {
     "name": "stdout",
     "output_type": "stream",
     "text": [
      "[507100015 507105000 507105004 ... 507160001 507160012 507160013]\n"
     ]
    }
   ],
   "source": [
    "print(df_Raton_CO.api10.values)"
   ]
  },
  {
   "cell_type": "code",
   "execution_count": 21,
   "metadata": {},
   "outputs": [
    {
     "name": "stdout",
     "output_type": "stream",
     "text": [
      "URL: https://cogcc.state.co.us/cogis/FacilityDetail.asp?facid=07100015&type=WELL\n",
      "Encoding: ISO-8859-1\n",
      "RespCode: <class 'int'> 200\n"
     ]
    }
   ],
   "source": [
    "#USING Scraping data -- (MB Mines) example 1 well\n",
    "\n",
    "baseURL = 'https://cogcc.state.co.us/cogis/FacilityDetail.asp?facid='\n",
    "tailURL = '&type=WELL'\n",
    "#url = baseURL + '07109733'.replace('-','')[2:] + tailURL\n",
    "url = baseURL + '07100015' + tailURL\n",
    "print('URL:', url)\n",
    "r = requests.get(url)\n",
    "print('Encoding:', r.encoding)\n",
    "print('RespCode:',type(r.status_code),r.status_code)"
   ]
  },
  {
   "cell_type": "code",
   "execution_count": 46,
   "metadata": {},
   "outputs": [],
   "source": [
    "def top_parse(text):\n",
    "    tops = text.split('<!-- LOOP FOR EACH Formation WITHIN WELLBORE -->')[1].split('<!-- END Formation LOOP -->')[0]\n",
    "    tops = tops.replace('\\r','').replace('\\n','').replace('\\t','').strip()\n",
    "    tops = tops.split('<tr>')\n",
    "    tops = [x.strip() for x in tops if len(x) > 0]\n",
    "    \n",
    "    formations = {}\n",
    "    for top in tops:\n",
    "        cols = top.split('<td')\n",
    "        cols = [x.strip() for x in cols if len(x) > 0]    \n",
    "        formation = cols[0].split('color=\"Navy\">')[1].split(' ')[0]\n",
    "        depth = eval(cols[1].split('<font size=\"2\">')[1].split('</font>')[0])\n",
    "        formations[formation] = depth\n",
    "    return formations"
   ]
  },
  {
   "cell_type": "code",
   "execution_count": 88,
   "metadata": {},
   "outputs": [],
   "source": [
    "r = requests.get('https://cogcc.state.co.us/cogis/FacilityDetail.asp?facid=07106111&type=WELL')"
   ]
  },
  {
   "cell_type": "code",
   "execution_count": 89,
   "metadata": {},
   "outputs": [
    {
     "data": {
      "text/plain": [
       "{}"
      ]
     },
     "execution_count": 89,
     "metadata": {},
     "output_type": "execute_result"
    }
   ],
   "source": [
    "top_parse(r.text)"
   ]
  },
  {
   "cell_type": "code",
   "execution_count": 101,
   "metadata": {},
   "outputs": [
    {
     "ename": "KeyboardInterrupt",
     "evalue": "",
     "output_type": "error",
     "traceback": [
      "\u001b[0;31m---------------------------------------------------------------------------\u001b[0m",
      "\u001b[0;31mKeyboardInterrupt\u001b[0m                         Traceback (most recent call last)",
      "\u001b[0;32m<ipython-input-101-8e8593801dce>\u001b[0m in \u001b[0;36m<module>\u001b[0;34m\u001b[0m\n\u001b[1;32m     14\u001b[0m     \u001b[0;32mexcept\u001b[0m\u001b[0;34m:\u001b[0m\u001b[0;34m\u001b[0m\u001b[0;34m\u001b[0m\u001b[0m\n\u001b[1;32m     15\u001b[0m         \u001b[0;32mpass\u001b[0m\u001b[0;34m\u001b[0m\u001b[0;34m\u001b[0m\u001b[0m\n\u001b[0;32m---> 16\u001b[0;31m     \u001b[0mtime\u001b[0m\u001b[0;34m.\u001b[0m\u001b[0msleep\u001b[0m\u001b[0;34m(\u001b[0m\u001b[0;36m5\u001b[0m\u001b[0;34m)\u001b[0m \u001b[0;31m#Wait 5 sec.\u001b[0m\u001b[0;34m\u001b[0m\u001b[0;34m\u001b[0m\u001b[0m\n\u001b[0m\u001b[1;32m     17\u001b[0m     \u001b[0;31m#print('URL:', url)\u001b[0m\u001b[0;34m\u001b[0m\u001b[0;34m\u001b[0m\u001b[0;34m\u001b[0m\u001b[0m\n\u001b[1;32m     18\u001b[0m \u001b[0mprint\u001b[0m\u001b[0;34m(\u001b[0m\u001b[0mwells_tops\u001b[0m\u001b[0;34m)\u001b[0m\u001b[0;34m\u001b[0m\u001b[0;34m\u001b[0m\u001b[0m\n",
      "\u001b[0;31mKeyboardInterrupt\u001b[0m: "
     ]
    }
   ],
   "source": [
    "#FOR loop to extract all formation tops available in COGCC Raton Basin\n",
    "\n",
    "wells_list = df_Raton_CO.api10.values\n",
    "#wells_list = [507106224, 507106360, 507106650, 517106111, 507160012, 507160013]\n",
    "wells_tops = np.array([])\n",
    "baseURL = 'https://cogcc.state.co.us/cogis/FacilityDetail.asp?facid='\n",
    "tailURL = '&type=WELL'\n",
    "\n",
    "for idx in range(len(wells_list)):\n",
    "    url = baseURL + str(wells_list[idx])[1:] + tailURL\n",
    "    r = requests.get(url)\n",
    "    try:\n",
    "        wells_tops= np.append(wells_list[idx],top_parse(r.text))\n",
    "    except:\n",
    "        pass\n",
    "    #time.sleep(5) #Wait 5 sec.\n",
    "    #print('URL:', url)\n",
    "print(wells_tops)"
   ]
  },
  {
   "cell_type": "code",
   "execution_count": null,
   "metadata": {},
   "outputs": [],
   "source": [
    "type(str(wells_list[0]))"
   ]
  },
  {
   "cell_type": "code",
   "execution_count": 33,
   "metadata": {},
   "outputs": [
    {
     "name": "stdout",
     "output_type": "stream",
     "text": [
      "[507100015 507105000 507105004 ... 507160001 507160012 507160013]\n"
     ]
    }
   ],
   "source": [
    "print(wells_list)"
   ]
  },
  {
   "cell_type": "code",
   "execution_count": null,
   "metadata": {},
   "outputs": [],
   "source": []
  }
 ],
 "metadata": {
  "kernelspec": {
   "display_name": "Python 3",
   "language": "python",
   "name": "python3"
  },
  "language_info": {
   "codemirror_mode": {
    "name": "ipython",
    "version": 3
   },
   "file_extension": ".py",
   "mimetype": "text/x-python",
   "name": "python",
   "nbconvert_exporter": "python",
   "pygments_lexer": "ipython3",
   "version": "3.7.6"
  }
 },
 "nbformat": 4,
 "nbformat_minor": 4
}

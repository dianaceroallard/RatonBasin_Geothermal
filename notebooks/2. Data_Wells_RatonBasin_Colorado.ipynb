{
 "cells": [
  {
   "cell_type": "markdown",
   "metadata": {},
   "source": [
    "## RATON BASIN GEOTHERMAL WELL DATA\n",
    "\n",
    "##### Some functions adapted from https://sainosmichelle.github.io/elements.html"
   ]
  },
  {
   "cell_type": "code",
   "execution_count": 3,
   "metadata": {},
   "outputs": [],
   "source": [
    "import pandas as pd\n",
    "import numpy as np\n",
    "import seaborn as sns\n",
    "import plotly.express as px\n",
    "import plotly.graph_objects as go\n",
    "import geopandas as gpd\n",
    "import matplotlib.pyplot as plt\n",
    "import warnings\n",
    "warnings.filterwarnings('ignore')"
   ]
  },
  {
   "cell_type": "code",
   "execution_count": 5,
   "metadata": {},
   "outputs": [],
   "source": [
    "df_MS48 = pd.read_excel('../data/inputs/Oil_Gas_Wells_with_Predicted_Geothermal_Properties.xlsx')\n",
    "df_wells_CO = pd.read_csv('../data/inputs/COGCC wells.csv') # downloaded from COGCC 2020"
   ]
  },
  {
   "cell_type": "code",
   "execution_count": 3,
   "metadata": {},
   "outputs": [
    {
     "name": "stdout",
     "output_type": "stream",
     "text": [
      "Index(['API', 'API_County', 'API_Seq', 'API_Label', 'Operat_Num', 'Operator',\n",
      "       'Well_Num', 'Well_Name', 'Well_Title', 'Citing_Typ', 'Spud_Date',\n",
      "       'Ground_Ele', 'Max_MD', 'Max_TVD', 'Field_Code', 'Field_Name',\n",
      "       'Facil_Id', 'Facil_Type', 'Facil_Stat', 'Stat_Date', 'Loc_Qual',\n",
      "       'Loc_ID', 'Loc_Name', 'Dist_N_S', 'Dir_N_S', 'Dist_E_W', 'Dir_E_W',\n",
      "       'Qtr_Qtr', 'Section', 'Township', 'Range', 'Meridian', 'Latitude',\n",
      "       'Longitude', 'Utm_X', 'Utm_Y', 'api10'],\n",
      "      dtype='object')\n"
     ]
    }
   ],
   "source": [
    "print(df_wells_CO.columns)"
   ]
  },
  {
   "cell_type": "markdown",
   "metadata": {},
   "source": [
    "#### Extracting only wells at Raton Basin"
   ]
  },
  {
   "cell_type": "code",
   "execution_count": 4,
   "metadata": {},
   "outputs": [
    {
     "data": {
      "text/plain": [
       "3736"
      ]
     },
     "execution_count": 4,
     "metadata": {},
     "output_type": "execute_result"
    }
   ],
   "source": [
    "twp_list = ['31S', '32S', '33S', '34S', '35S']\n",
    "range_list = ['61W', '62W', '63W', '64W', '65W', '66W', '67W', '68W']\n",
    "temp = df_MS48[df_MS48['twp'].isin(twp_list)] \n",
    "df_MS48_Raton = temp[temp['range'].isin(range_list)] \n",
    "len(df_MS48_Raton)"
   ]
  },
  {
   "cell_type": "code",
   "execution_count": 5,
   "metadata": {},
   "outputs": [
    {
     "data": {
      "text/plain": [
       "3881"
      ]
     },
     "execution_count": 5,
     "metadata": {},
     "output_type": "execute_result"
    }
   ],
   "source": [
    "twp_list = ['31S', '32S', '33S', '34S', '35S']\n",
    "range_list = ['61W', '62W', '63W', '64W', '65W', '66W', '67W', '68W']\n",
    "temp = df_wells_CO[df_wells_CO['Township'].isin(twp_list)] \n",
    "df_wells_Raton = temp[temp['Range'].isin(range_list)] \n",
    "len(df_wells_Raton)"
   ]
  },
  {
   "cell_type": "code",
   "execution_count": 6,
   "metadata": {},
   "outputs": [
    {
     "name": "stdout",
     "output_type": "stream",
     "text": [
      "['05-071-09485' '05-071-08913' '05-071-09487' ... '05-071-08264'\n",
      " '05-071-08269' '05-071-08268']\n"
     ]
    }
   ],
   "source": [
    "print(df_MS48_Raton.api.values)"
   ]
  },
  {
   "cell_type": "code",
   "execution_count": 7,
   "metadata": {},
   "outputs": [
    {
     "name": "stdout",
     "output_type": "stream",
     "text": [
      "['05-071-00015' '05-071-05000' '05-071-05004' ... '05-071-60001'\n",
      " '05-071-60012' '05-071-60013']\n"
     ]
    }
   ],
   "source": [
    "print(df_wells_Raton.API_Label.values)"
   ]
  },
  {
   "cell_type": "markdown",
   "metadata": {},
   "source": [
    "#### Wells in Raton Basin without predicted geothermal properties"
   ]
  },
  {
   "cell_type": "code",
   "execution_count": 8,
   "metadata": {},
   "outputs": [],
   "source": [
    "df_wells_Raton_ngeot = df_wells_Raton[~df_wells_Raton['API_Label'].isin(df_MS48_Raton['api'])]"
   ]
  },
  {
   "cell_type": "code",
   "execution_count": 9,
   "metadata": {},
   "outputs": [
    {
     "data": {
      "text/plain": [
       "146"
      ]
     },
     "execution_count": 9,
     "metadata": {},
     "output_type": "execute_result"
    }
   ],
   "source": [
    "len(df_wells_Raton_ngeot)"
   ]
  },
  {
   "cell_type": "code",
   "execution_count": 11,
   "metadata": {},
   "outputs": [
    {
     "name": "stdout",
     "output_type": "stream",
     "text": [
      "Index(['API', 'API_County', 'API_Seq', 'API_Label', 'Operat_Num', 'Operator',\n",
      "       'Well_Num', 'Well_Name', 'Well_Title', 'Citing_Typ', 'Spud_Date',\n",
      "       'Ground_Ele', 'Max_MD', 'Max_TVD', 'Field_Code', 'Field_Name',\n",
      "       'Facil_Id', 'Facil_Type', 'Facil_Stat', 'Stat_Date', 'Loc_Qual',\n",
      "       'Loc_ID', 'Loc_Name', 'Dist_N_S', 'Dir_N_S', 'Dist_E_W', 'Dir_E_W',\n",
      "       'Qtr_Qtr', 'Section', 'Township', 'Range', 'Meridian', 'Latitude',\n",
      "       'Longitude', 'Utm_X', 'Utm_Y', 'api10'],\n",
      "      dtype='object')\n"
     ]
    }
   ],
   "source": [
    "print(df_wells_Raton_ngeot.columns)"
   ]
  },
  {
   "cell_type": "code",
   "execution_count": 12,
   "metadata": {},
   "outputs": [
    {
     "data": {
      "text/html": [
       "<div>\n",
       "<style scoped>\n",
       "    .dataframe tbody tr th:only-of-type {\n",
       "        vertical-align: middle;\n",
       "    }\n",
       "\n",
       "    .dataframe tbody tr th {\n",
       "        vertical-align: top;\n",
       "    }\n",
       "\n",
       "    .dataframe thead th {\n",
       "        text-align: right;\n",
       "    }\n",
       "</style>\n",
       "<table border=\"1\" class=\"dataframe\">\n",
       "  <thead>\n",
       "    <tr style=\"text-align: right;\">\n",
       "      <th></th>\n",
       "      <th>api10</th>\n",
       "      <th>Spud_Date</th>\n",
       "      <th>Max_TVD</th>\n",
       "      <th>Max_MD</th>\n",
       "      <th>Operator</th>\n",
       "      <th>Well_Name</th>\n",
       "      <th>Township</th>\n",
       "      <th>Range</th>\n",
       "      <th>Section</th>\n",
       "    </tr>\n",
       "  </thead>\n",
       "  <tbody>\n",
       "    <tr>\n",
       "      <th>41827</th>\n",
       "      <td>507109770</td>\n",
       "      <td>NaN</td>\n",
       "      <td>NaN</td>\n",
       "      <td>NaN</td>\n",
       "      <td>PIONEER NATURAL RESOURCES USA INC</td>\n",
       "      <td>PARRAS</td>\n",
       "      <td>33S</td>\n",
       "      <td>68W</td>\n",
       "      <td>12</td>\n",
       "    </tr>\n",
       "    <tr>\n",
       "      <th>41828</th>\n",
       "      <td>507109773</td>\n",
       "      <td>NaN</td>\n",
       "      <td>NaN</td>\n",
       "      <td>NaN</td>\n",
       "      <td>PIONEER NATURAL RESOURCES USA INC</td>\n",
       "      <td>Mad City</td>\n",
       "      <td>33S</td>\n",
       "      <td>67W</td>\n",
       "      <td>25</td>\n",
       "    </tr>\n",
       "    <tr>\n",
       "      <th>41829</th>\n",
       "      <td>507109774</td>\n",
       "      <td>2011-04-23</td>\n",
       "      <td>NaN</td>\n",
       "      <td>1685.0</td>\n",
       "      <td>EVERGREEN NATURAL RESOURCES LLC</td>\n",
       "      <td>R&amp;S Smith</td>\n",
       "      <td>33S</td>\n",
       "      <td>66W</td>\n",
       "      <td>1</td>\n",
       "    </tr>\n",
       "    <tr>\n",
       "      <th>41830</th>\n",
       "      <td>507109775</td>\n",
       "      <td>NaN</td>\n",
       "      <td>NaN</td>\n",
       "      <td>NaN</td>\n",
       "      <td>PIONEER NATURAL RESOURCES USA INC</td>\n",
       "      <td>Holst</td>\n",
       "      <td>33S</td>\n",
       "      <td>66W</td>\n",
       "      <td>6</td>\n",
       "    </tr>\n",
       "    <tr>\n",
       "      <th>41831</th>\n",
       "      <td>507109776</td>\n",
       "      <td>NaN</td>\n",
       "      <td>NaN</td>\n",
       "      <td>NaN</td>\n",
       "      <td>PIONEER NATURAL RESOURCES USA INC</td>\n",
       "      <td>NIKKIE</td>\n",
       "      <td>32S</td>\n",
       "      <td>65W</td>\n",
       "      <td>17</td>\n",
       "    </tr>\n",
       "    <tr>\n",
       "      <th>...</th>\n",
       "      <td>...</td>\n",
       "      <td>...</td>\n",
       "      <td>...</td>\n",
       "      <td>...</td>\n",
       "      <td>...</td>\n",
       "      <td>...</td>\n",
       "      <td>...</td>\n",
       "      <td>...</td>\n",
       "      <td>...</td>\n",
       "    </tr>\n",
       "    <tr>\n",
       "      <th>41969</th>\n",
       "      <td>507109914</td>\n",
       "      <td>NaN</td>\n",
       "      <td>NaN</td>\n",
       "      <td>NaN</td>\n",
       "      <td>XTO ENERGY INC</td>\n",
       "      <td>TOUPAL SWD</td>\n",
       "      <td>34S</td>\n",
       "      <td>67W</td>\n",
       "      <td>10</td>\n",
       "    </tr>\n",
       "    <tr>\n",
       "      <th>41970</th>\n",
       "      <td>507109915</td>\n",
       "      <td>NaN</td>\n",
       "      <td>NaN</td>\n",
       "      <td>NaN</td>\n",
       "      <td>KCPI LLC</td>\n",
       "      <td>WINTERS</td>\n",
       "      <td>32S</td>\n",
       "      <td>63W</td>\n",
       "      <td>8</td>\n",
       "    </tr>\n",
       "    <tr>\n",
       "      <th>41971</th>\n",
       "      <td>507109916</td>\n",
       "      <td>2014-04-15</td>\n",
       "      <td>NaN</td>\n",
       "      <td>7215.0</td>\n",
       "      <td>EVERGREEN NATURAL RESOURCES LLC</td>\n",
       "      <td>San Pablo</td>\n",
       "      <td>33S</td>\n",
       "      <td>67W</td>\n",
       "      <td>4</td>\n",
       "    </tr>\n",
       "    <tr>\n",
       "      <th>41972</th>\n",
       "      <td>507109917</td>\n",
       "      <td>NaN</td>\n",
       "      <td>NaN</td>\n",
       "      <td>NaN</td>\n",
       "      <td>PIONEER NATURAL RESOURCES USA INC</td>\n",
       "      <td>Montoya</td>\n",
       "      <td>33S</td>\n",
       "      <td>67W</td>\n",
       "      <td>7</td>\n",
       "    </tr>\n",
       "    <tr>\n",
       "      <th>41983</th>\n",
       "      <td>507160001</td>\n",
       "      <td>1948-09-18</td>\n",
       "      <td>NaN</td>\n",
       "      <td>NaN</td>\n",
       "      <td>SKELLY OIL COMPANY</td>\n",
       "      <td>C F &amp; I  TERCIO</td>\n",
       "      <td>34S</td>\n",
       "      <td>68W</td>\n",
       "      <td>29</td>\n",
       "    </tr>\n",
       "  </tbody>\n",
       "</table>\n",
       "<p>146 rows × 9 columns</p>\n",
       "</div>"
      ],
      "text/plain": [
       "           api10   Spud_Date  Max_TVD  Max_MD  \\\n",
       "41827  507109770         NaN      NaN     NaN   \n",
       "41828  507109773         NaN      NaN     NaN   \n",
       "41829  507109774  2011-04-23      NaN  1685.0   \n",
       "41830  507109775         NaN      NaN     NaN   \n",
       "41831  507109776         NaN      NaN     NaN   \n",
       "...          ...         ...      ...     ...   \n",
       "41969  507109914         NaN      NaN     NaN   \n",
       "41970  507109915         NaN      NaN     NaN   \n",
       "41971  507109916  2014-04-15      NaN  7215.0   \n",
       "41972  507109917         NaN      NaN     NaN   \n",
       "41983  507160001  1948-09-18      NaN     NaN   \n",
       "\n",
       "                                Operator        Well_Name Township Range  \\\n",
       "41827  PIONEER NATURAL RESOURCES USA INC           PARRAS      33S   68W   \n",
       "41828  PIONEER NATURAL RESOURCES USA INC         Mad City      33S   67W   \n",
       "41829    EVERGREEN NATURAL RESOURCES LLC        R&S Smith      33S   66W   \n",
       "41830  PIONEER NATURAL RESOURCES USA INC            Holst      33S   66W   \n",
       "41831  PIONEER NATURAL RESOURCES USA INC           NIKKIE      32S   65W   \n",
       "...                                  ...              ...      ...   ...   \n",
       "41969                     XTO ENERGY INC       TOUPAL SWD      34S   67W   \n",
       "41970                           KCPI LLC          WINTERS      32S   63W   \n",
       "41971    EVERGREEN NATURAL RESOURCES LLC        San Pablo      33S   67W   \n",
       "41972  PIONEER NATURAL RESOURCES USA INC          Montoya      33S   67W   \n",
       "41983                 SKELLY OIL COMPANY  C F & I  TERCIO      34S   68W   \n",
       "\n",
       "       Section  \n",
       "41827       12  \n",
       "41828       25  \n",
       "41829        1  \n",
       "41830        6  \n",
       "41831       17  \n",
       "...        ...  \n",
       "41969       10  \n",
       "41970        8  \n",
       "41971        4  \n",
       "41972        7  \n",
       "41983       29  \n",
       "\n",
       "[146 rows x 9 columns]"
      ]
     },
     "execution_count": 12,
     "metadata": {},
     "output_type": "execute_result"
    }
   ],
   "source": [
    "df_wells_Raton_ngeot[['api10', 'Spud_Date', 'Max_TVD', 'Max_MD', 'Operator', \n",
    "                  'Well_Name', 'Township', 'Range','Section']] "
   ]
  },
  {
   "cell_type": "code",
   "execution_count": 18,
   "metadata": {},
   "outputs": [
    {
     "data": {
      "image/png": "[encoded data removed]",
      "text/plain": [
       "<Figure size 1800x576 with 2 Axes>"
      ]
     },
     "metadata": {
      "needs_background": "light"
     },
     "output_type": "display_data"
    }
   ],
   "source": [
    "fig, ax = plt.subplots(figsize=(25,8))\n",
    "sns.heatmap(df_wells_Raton_ngeot.isnull(), ax=ax, cmap=\"magma\")\n",
    "plt.grid()\n",
    "plt.show()"
   ]
  },
  {
   "cell_type": "code",
   "execution_count": 14,
   "metadata": {},
   "outputs": [
    {
     "data": {
      "text/html": [
       "<div>\n",
       "<style scoped>\n",
       "    .dataframe tbody tr th:only-of-type {\n",
       "        vertical-align: middle;\n",
       "    }\n",
       "\n",
       "    .dataframe tbody tr th {\n",
       "        vertical-align: top;\n",
       "    }\n",
       "\n",
       "    .dataframe thead th {\n",
       "        text-align: right;\n",
       "    }\n",
       "</style>\n",
       "<table border=\"1\" class=\"dataframe\">\n",
       "  <thead>\n",
       "    <tr style=\"text-align: right;\">\n",
       "      <th></th>\n",
       "      <th>API</th>\n",
       "      <th>API_County</th>\n",
       "      <th>API_Seq</th>\n",
       "      <th>Operat_Num</th>\n",
       "      <th>Ground_Ele</th>\n",
       "      <th>Max_MD</th>\n",
       "      <th>Max_TVD</th>\n",
       "      <th>Field_Code</th>\n",
       "      <th>Facil_Id</th>\n",
       "      <th>Loc_ID</th>\n",
       "      <th>Dist_N_S</th>\n",
       "      <th>Dist_E_W</th>\n",
       "      <th>Section</th>\n",
       "      <th>Latitude</th>\n",
       "      <th>Longitude</th>\n",
       "      <th>Utm_X</th>\n",
       "      <th>Utm_Y</th>\n",
       "      <th>api10</th>\n",
       "    </tr>\n",
       "  </thead>\n",
       "  <tbody>\n",
       "    <tr>\n",
       "      <th>count</th>\n",
       "      <td>1.460000e+02</td>\n",
       "      <td>146.0</td>\n",
       "      <td>146.000000</td>\n",
       "      <td>146.000000</td>\n",
       "      <td>146.000000</td>\n",
       "      <td>49.000000</td>\n",
       "      <td>0.0</td>\n",
       "      <td>146.000000</td>\n",
       "      <td>146.000000</td>\n",
       "      <td>146.000000</td>\n",
       "      <td>146.000000</td>\n",
       "      <td>146.000000</td>\n",
       "      <td>146.000000</td>\n",
       "      <td>146.000000</td>\n",
       "      <td>146.000000</td>\n",
       "      <td>146.000000</td>\n",
       "      <td>1.460000e+02</td>\n",
       "      <td>1.460000e+02</td>\n",
       "    </tr>\n",
       "    <tr>\n",
       "      <th>mean</th>\n",
       "      <td>7.110188e+06</td>\n",
       "      <td>71.0</td>\n",
       "      <td>10188.363014</td>\n",
       "      <td>24973.041096</td>\n",
       "      <td>7575.390411</td>\n",
       "      <td>2232.979592</td>\n",
       "      <td>NaN</td>\n",
       "      <td>70348.479452</td>\n",
       "      <td>419820.719178</td>\n",
       "      <td>399638.630137</td>\n",
       "      <td>1352.746575</td>\n",
       "      <td>1347.945205</td>\n",
       "      <td>18.164384</td>\n",
       "      <td>37.183612</td>\n",
       "      <td>-104.831063</td>\n",
       "      <td>514991.404110</td>\n",
       "      <td>4.115263e+06</td>\n",
       "      <td>5.071102e+08</td>\n",
       "    </tr>\n",
       "    <tr>\n",
       "      <th>std</th>\n",
       "      <td>4.151168e+03</td>\n",
       "      <td>0.0</td>\n",
       "      <td>4151.167987</td>\n",
       "      <td>33167.420243</td>\n",
       "      <td>486.778423</td>\n",
       "      <td>1054.139746</td>\n",
       "      <td>NaN</td>\n",
       "      <td>7038.755995</td>\n",
       "      <td>17466.165883</td>\n",
       "      <td>44765.792029</td>\n",
       "      <td>775.506818</td>\n",
       "      <td>739.508856</td>\n",
       "      <td>9.644743</td>\n",
       "      <td>0.070460</td>\n",
       "      <td>0.128987</td>\n",
       "      <td>11447.180721</td>\n",
       "      <td>7.821770e+03</td>\n",
       "      <td>4.151168e+03</td>\n",
       "    </tr>\n",
       "    <tr>\n",
       "      <th>min</th>\n",
       "      <td>7.109770e+06</td>\n",
       "      <td>71.0</td>\n",
       "      <td>9770.000000</td>\n",
       "      <td>10084.000000</td>\n",
       "      <td>5941.000000</td>\n",
       "      <td>925.000000</td>\n",
       "      <td>NaN</td>\n",
       "      <td>27950.000000</td>\n",
       "      <td>217952.000000</td>\n",
       "      <td>307490.000000</td>\n",
       "      <td>73.000000</td>\n",
       "      <td>12.000000</td>\n",
       "      <td>1.000000</td>\n",
       "      <td>37.016965</td>\n",
       "      <td>-105.019540</td>\n",
       "      <td>498263.000000</td>\n",
       "      <td>4.096755e+06</td>\n",
       "      <td>5.071098e+08</td>\n",
       "    </tr>\n",
       "    <tr>\n",
       "      <th>25%</th>\n",
       "      <td>7.109809e+06</td>\n",
       "      <td>71.0</td>\n",
       "      <td>9809.250000</td>\n",
       "      <td>10084.000000</td>\n",
       "      <td>7262.250000</td>\n",
       "      <td>1800.000000</td>\n",
       "      <td>NaN</td>\n",
       "      <td>70830.000000</td>\n",
       "      <td>416443.750000</td>\n",
       "      <td>414729.250000</td>\n",
       "      <td>618.500000</td>\n",
       "      <td>678.750000</td>\n",
       "      <td>11.000000</td>\n",
       "      <td>37.144737</td>\n",
       "      <td>-104.943370</td>\n",
       "      <td>505025.250000</td>\n",
       "      <td>4.110930e+06</td>\n",
       "      <td>5.071098e+08</td>\n",
       "    </tr>\n",
       "    <tr>\n",
       "      <th>50%</th>\n",
       "      <td>7.109846e+06</td>\n",
       "      <td>71.0</td>\n",
       "      <td>9845.500000</td>\n",
       "      <td>10369.000000</td>\n",
       "      <td>7543.000000</td>\n",
       "      <td>2070.000000</td>\n",
       "      <td>NaN</td>\n",
       "      <td>70830.000000</td>\n",
       "      <td>421022.000000</td>\n",
       "      <td>419481.000000</td>\n",
       "      <td>1504.500000</td>\n",
       "      <td>1470.000000</td>\n",
       "      <td>18.500000</td>\n",
       "      <td>37.185690</td>\n",
       "      <td>-104.823390</td>\n",
       "      <td>515687.000000</td>\n",
       "      <td>4.115475e+06</td>\n",
       "      <td>5.071098e+08</td>\n",
       "    </tr>\n",
       "    <tr>\n",
       "      <th>75%</th>\n",
       "      <td>7.109882e+06</td>\n",
       "      <td>71.0</td>\n",
       "      <td>9881.750000</td>\n",
       "      <td>10705.000000</td>\n",
       "      <td>7891.750000</td>\n",
       "      <td>2390.000000</td>\n",
       "      <td>NaN</td>\n",
       "      <td>70830.000000</td>\n",
       "      <td>424563.250000</td>\n",
       "      <td>423583.000000</td>\n",
       "      <td>2014.750000</td>\n",
       "      <td>1970.750000</td>\n",
       "      <td>26.000000</td>\n",
       "      <td>37.239362</td>\n",
       "      <td>-104.744570</td>\n",
       "      <td>522657.250000</td>\n",
       "      <td>4.121436e+06</td>\n",
       "      <td>5.071099e+08</td>\n",
       "    </tr>\n",
       "    <tr>\n",
       "      <th>max</th>\n",
       "      <td>7.160001e+06</td>\n",
       "      <td>71.0</td>\n",
       "      <td>60001.000000</td>\n",
       "      <td>100264.000000</td>\n",
       "      <td>8947.000000</td>\n",
       "      <td>7215.000000</td>\n",
       "      <td>NaN</td>\n",
       "      <td>99999.000000</td>\n",
       "      <td>437234.000000</td>\n",
       "      <td>437235.000000</td>\n",
       "      <td>2632.000000</td>\n",
       "      <td>2679.000000</td>\n",
       "      <td>36.000000</td>\n",
       "      <td>37.337770</td>\n",
       "      <td>-104.346870</td>\n",
       "      <td>558034.000000</td>\n",
       "      <td>4.132393e+06</td>\n",
       "      <td>5.071600e+08</td>\n",
       "    </tr>\n",
       "  </tbody>\n",
       "</table>\n",
       "</div>"
      ],
      "text/plain": [
       "                API  API_County       API_Seq     Operat_Num   Ground_Ele  \\\n",
       "count  1.460000e+02       146.0    146.000000     146.000000   146.000000   \n",
       "mean   7.110188e+06        71.0  10188.363014   24973.041096  7575.390411   \n",
       "std    4.151168e+03         0.0   4151.167987   33167.420243   486.778423   \n",
       "min    7.109770e+06        71.0   9770.000000   10084.000000  5941.000000   \n",
       "25%    7.109809e+06        71.0   9809.250000   10084.000000  7262.250000   \n",
       "50%    7.109846e+06        71.0   9845.500000   10369.000000  7543.000000   \n",
       "75%    7.109882e+06        71.0   9881.750000   10705.000000  7891.750000   \n",
       "max    7.160001e+06        71.0  60001.000000  100264.000000  8947.000000   \n",
       "\n",
       "            Max_MD  Max_TVD    Field_Code       Facil_Id         Loc_ID  \\\n",
       "count    49.000000      0.0    146.000000     146.000000     146.000000   \n",
       "mean   2232.979592      NaN  70348.479452  419820.719178  399638.630137   \n",
       "std    1054.139746      NaN   7038.755995   17466.165883   44765.792029   \n",
       "min     925.000000      NaN  27950.000000  217952.000000  307490.000000   \n",
       "25%    1800.000000      NaN  70830.000000  416443.750000  414729.250000   \n",
       "50%    2070.000000      NaN  70830.000000  421022.000000  419481.000000   \n",
       "75%    2390.000000      NaN  70830.000000  424563.250000  423583.000000   \n",
       "max    7215.000000      NaN  99999.000000  437234.000000  437235.000000   \n",
       "\n",
       "          Dist_N_S     Dist_E_W     Section    Latitude   Longitude  \\\n",
       "count   146.000000   146.000000  146.000000  146.000000  146.000000   \n",
       "mean   1352.746575  1347.945205   18.164384   37.183612 -104.831063   \n",
       "std     775.506818   739.508856    9.644743    0.070460    0.128987   \n",
       "min      73.000000    12.000000    1.000000   37.016965 -105.019540   \n",
       "25%     618.500000   678.750000   11.000000   37.144737 -104.943370   \n",
       "50%    1504.500000  1470.000000   18.500000   37.185690 -104.823390   \n",
       "75%    2014.750000  1970.750000   26.000000   37.239362 -104.744570   \n",
       "max    2632.000000  2679.000000   36.000000   37.337770 -104.346870   \n",
       "\n",
       "               Utm_X         Utm_Y         api10  \n",
       "count     146.000000  1.460000e+02  1.460000e+02  \n",
       "mean   514991.404110  4.115263e+06  5.071102e+08  \n",
       "std     11447.180721  7.821770e+03  4.151168e+03  \n",
       "min    498263.000000  4.096755e+06  5.071098e+08  \n",
       "25%    505025.250000  4.110930e+06  5.071098e+08  \n",
       "50%    515687.000000  4.115475e+06  5.071098e+08  \n",
       "75%    522657.250000  4.121436e+06  5.071099e+08  \n",
       "max    558034.000000  4.132393e+06  5.071600e+08  "
      ]
     },
     "execution_count": 14,
     "metadata": {},
     "output_type": "execute_result"
    }
   ],
   "source": [
    "df_wells_Raton_ngeot.describe()"
   ]
  },
  {
   "cell_type": "code",
   "execution_count": 16,
   "metadata": {},
   "outputs": [
    {
     "data": {
      "text/plain": [
       "array(['PIONEER NATURAL RESOURCES USA INC',\n",
       "       'EVERGREEN NATURAL RESOURCES LLC', 'XTO ENERGY INC',\n",
       "       'WAPITI OPERATING LLC', 'TIMBER CREEK OPERATING LLC',\n",
       "       'NATURAL RESOURCE GROUP INC', 'KCPI LLC', 'SKELLY OIL COMPANY'],\n",
       "      dtype=object)"
      ]
     },
     "execution_count": 16,
     "metadata": {},
     "output_type": "execute_result"
    }
   ],
   "source": [
    "df_wells_Raton_ngeot['Operator'].unique()"
   ]
  },
  {
   "cell_type": "code",
   "execution_count": 19,
   "metadata": {},
   "outputs": [
    {
     "data": {
      "text/plain": [
       "<matplotlib.axes._subplots.AxesSubplot at 0x12b02a990>"
      ]
     },
     "execution_count": 19,
     "metadata": {},
     "output_type": "execute_result"
    },
    {
     "data": {
      "image/png": "[encoded data removed]",
      "text/plain": [
       "<Figure size 1080x360 with 1 Axes>"
      ]
     },
     "metadata": {
      "needs_background": "light"
     },
     "output_type": "display_data"
    }
   ],
   "source": [
    "df_wells_Raton_ngeot['Operator'].value_counts().plot(kind='bar', figsize=(15,5), grid=False, color='darkorange' )"
   ]
  },
  {
   "cell_type": "markdown",
   "metadata": {},
   "source": [
    "#### All wells Raton Basin @ 2020"
   ]
  },
  {
   "cell_type": "code",
   "execution_count": 20,
   "metadata": {},
   "outputs": [],
   "source": [
    "df_wells_Raton['Spud_Date'] = df_wells_Raton['Spud_Date'].fillna('0000-00-00')\n",
    "df_wells_Raton = df_wells_Raton.join(df_wells_Raton['Spud_Date'].str.split('-', expand=True).add_prefix('date'))\n",
    "df_obj = df_wells_Raton.select_dtypes(['object'])\n",
    "df_wells_Raton[df_obj.columns] = df_obj.apply(lambda x: x.str.strip())\n",
    "df_wells_Raton['date0'] = df_wells_Raton['date0'].astype(int)"
   ]
  },
  {
   "cell_type": "code",
   "execution_count": 21,
   "metadata": {},
   "outputs": [
    {
     "data": {
      "text/html": [
       "<div>\n",
       "<style scoped>\n",
       "    .dataframe tbody tr th:only-of-type {\n",
       "        vertical-align: middle;\n",
       "    }\n",
       "\n",
       "    .dataframe tbody tr th {\n",
       "        vertical-align: top;\n",
       "    }\n",
       "\n",
       "    .dataframe thead th {\n",
       "        text-align: right;\n",
       "    }\n",
       "</style>\n",
       "<table border=\"1\" class=\"dataframe\">\n",
       "  <thead>\n",
       "    <tr style=\"text-align: right;\">\n",
       "      <th></th>\n",
       "      <th>API</th>\n",
       "      <th>API_County</th>\n",
       "      <th>API_Seq</th>\n",
       "      <th>API_Label</th>\n",
       "      <th>Operat_Num</th>\n",
       "      <th>Operator</th>\n",
       "      <th>Well_Num</th>\n",
       "      <th>Well_Name</th>\n",
       "      <th>Well_Title</th>\n",
       "      <th>Citing_Typ</th>\n",
       "      <th>...</th>\n",
       "      <th>Range</th>\n",
       "      <th>Meridian</th>\n",
       "      <th>Latitude</th>\n",
       "      <th>Longitude</th>\n",
       "      <th>Utm_X</th>\n",
       "      <th>Utm_Y</th>\n",
       "      <th>api10</th>\n",
       "      <th>date0</th>\n",
       "      <th>date1</th>\n",
       "      <th>date2</th>\n",
       "    </tr>\n",
       "  </thead>\n",
       "  <tbody>\n",
       "    <tr>\n",
       "      <th>37999</th>\n",
       "      <td>7100015</td>\n",
       "      <td>71</td>\n",
       "      <td>15</td>\n",
       "      <td>05-071-00015</td>\n",
       "      <td>30788</td>\n",
       "      <td>FRANKLIN, ASTON, &amp; FAIR,INC</td>\n",
       "      <td>1</td>\n",
       "      <td>SANDOVAL</td>\n",
       "      <td>1 SANDOVAL</td>\n",
       "      <td>NaN</td>\n",
       "      <td>...</td>\n",
       "      <td>62W</td>\n",
       "      <td>6</td>\n",
       "      <td>37.104146</td>\n",
       "      <td>-104.347003</td>\n",
       "      <td>558022</td>\n",
       "      <td>4106625</td>\n",
       "      <td>507100015</td>\n",
       "      <td>0</td>\n",
       "      <td>00</td>\n",
       "      <td>00</td>\n",
       "    </tr>\n",
       "    <tr>\n",
       "      <th>38000</th>\n",
       "      <td>7105000</td>\n",
       "      <td>71</td>\n",
       "      <td>5000</td>\n",
       "      <td>05-071-05000</td>\n",
       "      <td>100743</td>\n",
       "      <td>COLORADO FUEL AND IRON CORPORATION* THE</td>\n",
       "      <td>1</td>\n",
       "      <td>MAXWELL GRANT (OWP)</td>\n",
       "      <td>1 MAXWELL GRANT (OWP)</td>\n",
       "      <td>HISTORICAL</td>\n",
       "      <td>...</td>\n",
       "      <td>63W</td>\n",
       "      <td>6</td>\n",
       "      <td>37.017524</td>\n",
       "      <td>-104.498458</td>\n",
       "      <td>544615</td>\n",
       "      <td>4096934</td>\n",
       "      <td>507105000</td>\n",
       "      <td>1923</td>\n",
       "      <td>09</td>\n",
       "      <td>15</td>\n",
       "    </tr>\n",
       "    <tr>\n",
       "      <th>38001</th>\n",
       "      <td>7105004</td>\n",
       "      <td>71</td>\n",
       "      <td>5004</td>\n",
       "      <td>05-071-05004</td>\n",
       "      <td>81765</td>\n",
       "      <td>STANOLIND OIL &amp; GAS CO</td>\n",
       "      <td>1</td>\n",
       "      <td>CF&amp;I</td>\n",
       "      <td>1 CF&amp;I</td>\n",
       "      <td>NaN</td>\n",
       "      <td>...</td>\n",
       "      <td>63W</td>\n",
       "      <td>6</td>\n",
       "      <td>37.037826</td>\n",
       "      <td>-104.500147</td>\n",
       "      <td>544453</td>\n",
       "      <td>4099185</td>\n",
       "      <td>507105004</td>\n",
       "      <td>0</td>\n",
       "      <td>00</td>\n",
       "      <td>00</td>\n",
       "    </tr>\n",
       "    <tr>\n",
       "      <th>38004</th>\n",
       "      <td>7105008</td>\n",
       "      <td>71</td>\n",
       "      <td>5008</td>\n",
       "      <td>05-071-05008</td>\n",
       "      <td>83685</td>\n",
       "      <td>SULLIVAN* BRUCE</td>\n",
       "      <td>1</td>\n",
       "      <td>ROBERTS</td>\n",
       "      <td>1 ROBERTS</td>\n",
       "      <td>ACTUAL</td>\n",
       "      <td>...</td>\n",
       "      <td>61W</td>\n",
       "      <td>6</td>\n",
       "      <td>37.083176</td>\n",
       "      <td>-104.274501</td>\n",
       "      <td>564482</td>\n",
       "      <td>4104346</td>\n",
       "      <td>507105008</td>\n",
       "      <td>1954</td>\n",
       "      <td>05</td>\n",
       "      <td>24</td>\n",
       "    </tr>\n",
       "    <tr>\n",
       "      <th>38005</th>\n",
       "      <td>7105009</td>\n",
       "      <td>71</td>\n",
       "      <td>5009</td>\n",
       "      <td>05-071-05009</td>\n",
       "      <td>1</td>\n",
       "      <td>UNKNOWN</td>\n",
       "      <td>1</td>\n",
       "      <td>DIDERO</td>\n",
       "      <td>1 DIDERO</td>\n",
       "      <td>NaN</td>\n",
       "      <td>...</td>\n",
       "      <td>61W</td>\n",
       "      <td>6</td>\n",
       "      <td>37.073157</td>\n",
       "      <td>-104.278971</td>\n",
       "      <td>564093</td>\n",
       "      <td>4103231</td>\n",
       "      <td>507105009</td>\n",
       "      <td>0</td>\n",
       "      <td>00</td>\n",
       "      <td>00</td>\n",
       "    </tr>\n",
       "  </tbody>\n",
       "</table>\n",
       "<p>5 rows × 40 columns</p>\n",
       "</div>"
      ],
      "text/plain": [
       "           API  API_County  API_Seq     API_Label  Operat_Num  \\\n",
       "37999  7100015          71       15  05-071-00015       30788   \n",
       "38000  7105000          71     5000  05-071-05000      100743   \n",
       "38001  7105004          71     5004  05-071-05004       81765   \n",
       "38004  7105008          71     5008  05-071-05008       83685   \n",
       "38005  7105009          71     5009  05-071-05009           1   \n",
       "\n",
       "                                      Operator Well_Num            Well_Name  \\\n",
       "37999              FRANKLIN, ASTON, & FAIR,INC        1             SANDOVAL   \n",
       "38000  COLORADO FUEL AND IRON CORPORATION* THE        1  MAXWELL GRANT (OWP)   \n",
       "38001                   STANOLIND OIL & GAS CO        1                 CF&I   \n",
       "38004                          SULLIVAN* BRUCE        1              ROBERTS   \n",
       "38005                                  UNKNOWN        1               DIDERO   \n",
       "\n",
       "                  Well_Title  Citing_Typ  ... Range  Meridian   Latitude  \\\n",
       "37999             1 SANDOVAL         NaN  ...   62W         6  37.104146   \n",
       "38000  1 MAXWELL GRANT (OWP)  HISTORICAL  ...   63W         6  37.017524   \n",
       "38001                 1 CF&I         NaN  ...   63W         6  37.037826   \n",
       "38004              1 ROBERTS      ACTUAL  ...   61W         6  37.083176   \n",
       "38005               1 DIDERO         NaN  ...   61W         6  37.073157   \n",
       "\n",
       "        Longitude   Utm_X    Utm_Y      api10 date0 date1 date2  \n",
       "37999 -104.347003  558022  4106625  507100015     0    00    00  \n",
       "38000 -104.498458  544615  4096934  507105000  1923    09    15  \n",
       "38001 -104.500147  544453  4099185  507105004     0    00    00  \n",
       "38004 -104.274501  564482  4104346  507105008  1954    05    24  \n",
       "38005 -104.278971  564093  4103231  507105009     0    00    00  \n",
       "\n",
       "[5 rows x 40 columns]"
      ]
     },
     "execution_count": 21,
     "metadata": {},
     "output_type": "execute_result"
    }
   ],
   "source": [
    "df_wells_Raton.head()"
   ]
  },
  {
   "cell_type": "code",
   "execution_count": 22,
   "metadata": {},
   "outputs": [
    {
     "data": {
      "image/png": "[encoded data removed]",
      "text/plain": [
       "<Figure size 1800x360 with 1 Axes>"
      ]
     },
     "metadata": {
      "needs_background": "light"
     },
     "output_type": "display_data"
    }
   ],
   "source": [
    "fig, ax = plt.subplots(figsize=(25,5))\n",
    "sns.countplot(ax=ax, x=df_wells_Raton['date0'])\n",
    "plt.show()"
   ]
  }
 ],
 "metadata": {
  "kernelspec": {
   "display_name": "Python 3",
   "language": "python",
   "name": "python3"
  },
  "language_info": {
   "codemirror_mode": {
    "name": "ipython",
    "version": 3
   },
   "file_extension": ".py",
   "mimetype": "text/x-python",
   "name": "python",
   "nbconvert_exporter": "python",
   "pygments_lexer": "ipython3",
   "version": "3.7.6"
  }
 },
 "nbformat": 4,
 "nbformat_minor": 4
}

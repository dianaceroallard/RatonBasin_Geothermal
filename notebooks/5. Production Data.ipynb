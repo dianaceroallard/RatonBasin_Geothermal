{
 "cells": [
  {
   "cell_type": "code",
   "execution_count": 56,
   "metadata": {},
   "outputs": [],
   "source": [
    "import pandas as pd\n",
    "import numpy as np\n",
    "from COGCCpy import production"
   ]
  },
  {
   "cell_type": "code",
   "execution_count": 71,
   "metadata": {},
   "outputs": [],
   "source": [
    "df = pd.read_csv(\"../data/inputs/Las available.csv\")"
   ]
  },
  {
   "cell_type": "code",
   "execution_count": 72,
   "metadata": {},
   "outputs": [
    {
     "data": {
      "text/html": [
       "<div>\n",
       "<style scoped>\n",
       "    .dataframe tbody tr th:only-of-type {\n",
       "        vertical-align: middle;\n",
       "    }\n",
       "\n",
       "    .dataframe tbody tr th {\n",
       "        vertical-align: top;\n",
       "    }\n",
       "\n",
       "    .dataframe thead th {\n",
       "        text-align: right;\n",
       "    }\n",
       "</style>\n",
       "<table border=\"1\" class=\"dataframe\">\n",
       "  <thead>\n",
       "    <tr style=\"text-align: right;\">\n",
       "      <th></th>\n",
       "      <th>api10</th>\n",
       "      <th>DocName</th>\n",
       "      <th>DocUrl</th>\n",
       "      <th>Start</th>\n",
       "      <th>Stop</th>\n",
       "      <th>Step</th>\n",
       "      <th>Step Units</th>\n",
       "      <th>Number of Curves</th>\n",
       "      <th>CurveNameArr</th>\n",
       "    </tr>\n",
       "  </thead>\n",
       "  <tbody>\n",
       "    <tr>\n",
       "      <th>0</th>\n",
       "      <td>507107019</td>\n",
       "      <td>LAS-DENSITY</td>\n",
       "      <td>http://ogccweblink.state.co.us/DownloadDocumen...</td>\n",
       "      <td>387.10</td>\n",
       "      <td>1748.00</td>\n",
       "      <td>0.10</td>\n",
       "      <td>FT</td>\n",
       "      <td>7</td>\n",
       "      <td>['DEPT', 'DCAL', 'RHOB', 'RHOC', 'DPOR', 'GR',...</td>\n",
       "    </tr>\n",
       "    <tr>\n",
       "      <th>1</th>\n",
       "      <td>507107556</td>\n",
       "      <td>LAS-DENSITY/NEUTRON</td>\n",
       "      <td>http://ogccweblink.state.co.us/DownloadDocumen...</td>\n",
       "      <td>130.00</td>\n",
       "      <td>1766.90</td>\n",
       "      <td>0.10</td>\n",
       "      <td>FT</td>\n",
       "      <td>7</td>\n",
       "      <td>['DEPT', 'DCAL', 'RHOB', 'RHOC', 'DPOR', 'GR',...</td>\n",
       "    </tr>\n",
       "    <tr>\n",
       "      <th>2</th>\n",
       "      <td>507107556</td>\n",
       "      <td>LAS-DUAL INDUCTION</td>\n",
       "      <td>http://ogccweblink.state.co.us/DownloadDocumen...</td>\n",
       "      <td>115.00</td>\n",
       "      <td>1768.25</td>\n",
       "      <td>0.25</td>\n",
       "      <td>FT</td>\n",
       "      <td>6</td>\n",
       "      <td>['DEPT', 'SP', 'RILD', 'RILM', 'RLL3', 'GR']</td>\n",
       "    </tr>\n",
       "    <tr>\n",
       "      <th>3</th>\n",
       "      <td>507107724</td>\n",
       "      <td>LAS-GAMMA RAY</td>\n",
       "      <td>http://ogccweblink.state.co.us/DownloadDocumen...</td>\n",
       "      <td>660.80</td>\n",
       "      <td>2375.10</td>\n",
       "      <td>0.10</td>\n",
       "      <td>FT</td>\n",
       "      <td>7</td>\n",
       "      <td>['DEPT', 'DCAL', 'RHOB', 'RHOC', 'DPOR', 'GR',...</td>\n",
       "    </tr>\n",
       "    <tr>\n",
       "      <th>4</th>\n",
       "      <td>507107724</td>\n",
       "      <td>LAS-CEMENT BOND</td>\n",
       "      <td>http://ogccweblink.state.co.us/DownloadDocumen...</td>\n",
       "      <td>-2.75</td>\n",
       "      <td>2139.25</td>\n",
       "      <td>0.25</td>\n",
       "      <td>FT</td>\n",
       "      <td>5</td>\n",
       "      <td>['DEPT', 'CCL', 'TT3', 'AMP3', 'GR']</td>\n",
       "    </tr>\n",
       "  </tbody>\n",
       "</table>\n",
       "</div>"
      ],
      "text/plain": [
       "       api10              DocName  \\\n",
       "0  507107019          LAS-DENSITY   \n",
       "1  507107556  LAS-DENSITY/NEUTRON   \n",
       "2  507107556   LAS-DUAL INDUCTION   \n",
       "3  507107724        LAS-GAMMA RAY   \n",
       "4  507107724      LAS-CEMENT BOND   \n",
       "\n",
       "                                              DocUrl   Start     Stop  Step  \\\n",
       "0  http://ogccweblink.state.co.us/DownloadDocumen...  387.10  1748.00  0.10   \n",
       "1  http://ogccweblink.state.co.us/DownloadDocumen...  130.00  1766.90  0.10   \n",
       "2  http://ogccweblink.state.co.us/DownloadDocumen...  115.00  1768.25  0.25   \n",
       "3  http://ogccweblink.state.co.us/DownloadDocumen...  660.80  2375.10  0.10   \n",
       "4  http://ogccweblink.state.co.us/DownloadDocumen...   -2.75  2139.25  0.25   \n",
       "\n",
       "  Step Units  Number of Curves  \\\n",
       "0         FT                 7   \n",
       "1         FT                 7   \n",
       "2         FT                 6   \n",
       "3         FT                 7   \n",
       "4         FT                 5   \n",
       "\n",
       "                                        CurveNameArr  \n",
       "0  ['DEPT', 'DCAL', 'RHOB', 'RHOC', 'DPOR', 'GR',...  \n",
       "1  ['DEPT', 'DCAL', 'RHOB', 'RHOC', 'DPOR', 'GR',...  \n",
       "2       ['DEPT', 'SP', 'RILD', 'RILM', 'RLL3', 'GR']  \n",
       "3  ['DEPT', 'DCAL', 'RHOB', 'RHOC', 'DPOR', 'GR',...  \n",
       "4               ['DEPT', 'CCL', 'TT3', 'AMP3', 'GR']  "
      ]
     },
     "execution_count": 72,
     "metadata": {},
     "output_type": "execute_result"
    }
   ],
   "source": [
    "df.head()"
   ]
  },
  {
   "cell_type": "code",
   "execution_count": 73,
   "metadata": {},
   "outputs": [
    {
     "data": {
      "text/html": [
       "<div>\n",
       "<style scoped>\n",
       "    .dataframe tbody tr th:only-of-type {\n",
       "        vertical-align: middle;\n",
       "    }\n",
       "\n",
       "    .dataframe tbody tr th {\n",
       "        vertical-align: top;\n",
       "    }\n",
       "\n",
       "    .dataframe thead th {\n",
       "        text-align: right;\n",
       "    }\n",
       "</style>\n",
       "<table border=\"1\" class=\"dataframe\">\n",
       "  <thead>\n",
       "    <tr style=\"text-align: right;\">\n",
       "      <th></th>\n",
       "      <th>api10</th>\n",
       "      <th>DocName</th>\n",
       "      <th>DocUrl</th>\n",
       "      <th>Start</th>\n",
       "      <th>Stop</th>\n",
       "      <th>Step</th>\n",
       "      <th>Step Units</th>\n",
       "      <th>Number of Curves</th>\n",
       "      <th>CurveNameArr</th>\n",
       "    </tr>\n",
       "  </thead>\n",
       "  <tbody>\n",
       "    <tr>\n",
       "      <th>0</th>\n",
       "      <td>0507107019</td>\n",
       "      <td>LAS-DENSITY</td>\n",
       "      <td>http://ogccweblink.state.co.us/DownloadDocumen...</td>\n",
       "      <td>387.10</td>\n",
       "      <td>1748.00</td>\n",
       "      <td>0.10</td>\n",
       "      <td>FT</td>\n",
       "      <td>7</td>\n",
       "      <td>['DEPT', 'DCAL', 'RHOB', 'RHOC', 'DPOR', 'GR',...</td>\n",
       "    </tr>\n",
       "    <tr>\n",
       "      <th>1</th>\n",
       "      <td>0507107556</td>\n",
       "      <td>LAS-DENSITY/NEUTRON</td>\n",
       "      <td>http://ogccweblink.state.co.us/DownloadDocumen...</td>\n",
       "      <td>130.00</td>\n",
       "      <td>1766.90</td>\n",
       "      <td>0.10</td>\n",
       "      <td>FT</td>\n",
       "      <td>7</td>\n",
       "      <td>['DEPT', 'DCAL', 'RHOB', 'RHOC', 'DPOR', 'GR',...</td>\n",
       "    </tr>\n",
       "    <tr>\n",
       "      <th>2</th>\n",
       "      <td>0507107556</td>\n",
       "      <td>LAS-DUAL INDUCTION</td>\n",
       "      <td>http://ogccweblink.state.co.us/DownloadDocumen...</td>\n",
       "      <td>115.00</td>\n",
       "      <td>1768.25</td>\n",
       "      <td>0.25</td>\n",
       "      <td>FT</td>\n",
       "      <td>6</td>\n",
       "      <td>['DEPT', 'SP', 'RILD', 'RILM', 'RLL3', 'GR']</td>\n",
       "    </tr>\n",
       "    <tr>\n",
       "      <th>3</th>\n",
       "      <td>0507107724</td>\n",
       "      <td>LAS-GAMMA RAY</td>\n",
       "      <td>http://ogccweblink.state.co.us/DownloadDocumen...</td>\n",
       "      <td>660.80</td>\n",
       "      <td>2375.10</td>\n",
       "      <td>0.10</td>\n",
       "      <td>FT</td>\n",
       "      <td>7</td>\n",
       "      <td>['DEPT', 'DCAL', 'RHOB', 'RHOC', 'DPOR', 'GR',...</td>\n",
       "    </tr>\n",
       "    <tr>\n",
       "      <th>4</th>\n",
       "      <td>0507107724</td>\n",
       "      <td>LAS-CEMENT BOND</td>\n",
       "      <td>http://ogccweblink.state.co.us/DownloadDocumen...</td>\n",
       "      <td>-2.75</td>\n",
       "      <td>2139.25</td>\n",
       "      <td>0.25</td>\n",
       "      <td>FT</td>\n",
       "      <td>5</td>\n",
       "      <td>['DEPT', 'CCL', 'TT3', 'AMP3', 'GR']</td>\n",
       "    </tr>\n",
       "  </tbody>\n",
       "</table>\n",
       "</div>"
      ],
      "text/plain": [
       "        api10              DocName  \\\n",
       "0  0507107019          LAS-DENSITY   \n",
       "1  0507107556  LAS-DENSITY/NEUTRON   \n",
       "2  0507107556   LAS-DUAL INDUCTION   \n",
       "3  0507107724        LAS-GAMMA RAY   \n",
       "4  0507107724      LAS-CEMENT BOND   \n",
       "\n",
       "                                              DocUrl   Start     Stop  Step  \\\n",
       "0  http://ogccweblink.state.co.us/DownloadDocumen...  387.10  1748.00  0.10   \n",
       "1  http://ogccweblink.state.co.us/DownloadDocumen...  130.00  1766.90  0.10   \n",
       "2  http://ogccweblink.state.co.us/DownloadDocumen...  115.00  1768.25  0.25   \n",
       "3  http://ogccweblink.state.co.us/DownloadDocumen...  660.80  2375.10  0.10   \n",
       "4  http://ogccweblink.state.co.us/DownloadDocumen...   -2.75  2139.25  0.25   \n",
       "\n",
       "  Step Units  Number of Curves  \\\n",
       "0         FT                 7   \n",
       "1         FT                 7   \n",
       "2         FT                 6   \n",
       "3         FT                 7   \n",
       "4         FT                 5   \n",
       "\n",
       "                                        CurveNameArr  \n",
       "0  ['DEPT', 'DCAL', 'RHOB', 'RHOC', 'DPOR', 'GR',...  \n",
       "1  ['DEPT', 'DCAL', 'RHOB', 'RHOC', 'DPOR', 'GR',...  \n",
       "2       ['DEPT', 'SP', 'RILD', 'RILM', 'RLL3', 'GR']  \n",
       "3  ['DEPT', 'DCAL', 'RHOB', 'RHOC', 'DPOR', 'GR',...  \n",
       "4               ['DEPT', 'CCL', 'TT3', 'AMP3', 'GR']  "
      ]
     },
     "execution_count": 73,
     "metadata": {},
     "output_type": "execute_result"
    }
   ],
   "source": [
    "#df['ID'].astype(str).str.zfill(15) \n",
    "df['api10'] = df['api10'].astype(str).str.zfill(10)\n",
    "#df['api10'] = df['api10'].astype(str)\n",
    "df.head()"
   ]
  },
  {
   "cell_type": "code",
   "execution_count": 78,
   "metadata": {},
   "outputs": [
    {
     "data": {
      "text/plain": [
       "numpy.ndarray"
      ]
     },
     "execution_count": 78,
     "metadata": {},
     "output_type": "execute_result"
    }
   ],
   "source": [
    "#apis = ['507107019','507107556']\n",
    "apis = (df.api10.values)\n",
    "type(apis)"
   ]
  },
  {
   "cell_type": "code",
   "execution_count": 79,
   "metadata": {},
   "outputs": [
    {
     "name": "stdout",
     "output_type": "stream",
     "text": [
      "0507109657 100% complete  \r"
     ]
    }
   ],
   "source": [
    "prod = production(apis)"
   ]
  },
  {
   "cell_type": "code",
   "execution_count": 86,
   "metadata": {},
   "outputs": [],
   "source": [
    "Raton_prod = prod.df"
   ]
  },
  {
   "cell_type": "code",
   "execution_count": 93,
   "metadata": {},
   "outputs": [
    {
     "name": "stdout",
     "output_type": "stream",
     "text": [
      "<class 'pandas.core.frame.DataFrame'>\n",
      "RangeIndex: 457623 entries, 0 to 457622\n",
      "Data columns (total 26 columns):\n",
      " #   Column                 Non-Null Count   Dtype         \n",
      "---  ------                 --------------   -----         \n",
      " 0   API_Label              457623 non-null  object        \n",
      " 1   First of Month         457623 non-null  datetime64[ns]\n",
      " 2   Days Produced          457623 non-null  int64         \n",
      " 3   Well Status            457623 non-null  object        \n",
      " 4   API County             457623 non-null  object        \n",
      " 5   API Sequence           457623 non-null  object        \n",
      " 6   API Sidetrack          457623 non-null  object        \n",
      " 7   Formation              457623 non-null  object        \n",
      " 8   BOM Inventory          457623 non-null  int64         \n",
      " 9   Oil Produced           457623 non-null  int64         \n",
      " 10  Oil Sold               457623 non-null  int64         \n",
      " 11  Oil Adjustment         457623 non-null  int64         \n",
      " 12  EOM Inventory          457623 non-null  int64         \n",
      " 13  Oil Gravity            457623 non-null  int64         \n",
      " 14  Gas Produced           457623 non-null  int64         \n",
      " 15  Gas Flared             457623 non-null  int64         \n",
      " 16  Gas Used               457623 non-null  int64         \n",
      " 17  Gas Shrinkage          0 non-null       float64       \n",
      " 18  Gas Sold               457623 non-null  int64         \n",
      " 19  Gas BTU                412651 non-null  float64       \n",
      " 20  Gas Tubing Pressure    436 non-null     float64       \n",
      " 21  Gas Casing Pressure    290 non-null     float64       \n",
      " 22  Water Volume           457623 non-null  int64         \n",
      " 23  Water Tubing Pressure  91053 non-null   float64       \n",
      " 24  Water Casing Pressure  90944 non-null   float64       \n",
      " 25  Water Disp Code        342205 non-null  object        \n",
      "dtypes: datetime64[ns](1), float64(6), int64(12), object(7)\n",
      "memory usage: 90.8+ MB\n",
      "None\n"
     ]
    }
   ],
   "source": [
    "print(Raton_prod.info())"
   ]
  },
  {
   "cell_type": "code",
   "execution_count": 94,
   "metadata": {},
   "outputs": [
    {
     "data": {
      "text/plain": [
       "750"
      ]
     },
     "execution_count": 94,
     "metadata": {},
     "output_type": "execute_result"
    }
   ],
   "source": [
    "len(Raton_prod.API_Label.unique())"
   ]
  },
  {
   "cell_type": "code",
   "execution_count": 90,
   "metadata": {},
   "outputs": [],
   "source": [
    "#Raton_prod.to_csv('../data/outputs/Raton_production.csv') #Caution: Heavy file for Github"
   ]
  },
  {
   "cell_type": "code",
   "execution_count": null,
   "metadata": {},
   "outputs": [],
   "source": []
  }
 ],
 "metadata": {
  "kernelspec": {
   "display_name": "Python 3",
   "language": "python",
   "name": "python3"
  },
  "language_info": {
   "codemirror_mode": {
    "name": "ipython",
    "version": 3
   },
   "file_extension": ".py",
   "mimetype": "text/x-python",
   "name": "python",
   "nbconvert_exporter": "python",
   "pygments_lexer": "ipython3",
   "version": "3.7.6"
  }
 },
 "nbformat": 4,
 "nbformat_minor": 4
}

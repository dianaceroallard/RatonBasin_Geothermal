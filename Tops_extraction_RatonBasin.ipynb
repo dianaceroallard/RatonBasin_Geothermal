{
 "cells": [
  {
   "cell_type": "code",
   "execution_count": 2,
   "metadata": {},
   "outputs": [],
   "source": [
    "#import packages\n",
    "\n",
    "import pandas as pd\n",
    "import numpy as np\n",
    "import plotly.express as px\n",
    "import plotly.graph_objects as go\n",
    "import geopandas as gpd\n",
    "import matplotlib.pyplot as plt\n",
    "import warnings\n",
    "import time\n",
    "import pooch\n",
    "import requests\n",
    "warnings.filterwarnings('ignore')"
   ]
  },
  {
   "cell_type": "code",
   "execution_count": 68,
   "metadata": {},
   "outputs": [],
   "source": [
    "df_CO = pd.read_csv('./data/COGCC wells.csv') # downloaded from COGCC all Colorado wells"
   ]
  },
  {
   "cell_type": "code",
   "execution_count": 69,
   "metadata": {},
   "outputs": [],
   "source": [
    "#Extract wells only Raton Basin \n",
    "twp_list = ['31S', '32S', '33S', '34S', '35S']\n",
    "range_list = ['61W', '62W', '63W', '64W', '65W', '66W', '67W', '68W']\n",
    "temp = df_CO[df_CO['Township'].isin(twp_list)] \n",
    "df_Raton_CO = temp[temp['Range'].isin(range_list)] "
   ]
  },
  {
   "cell_type": "code",
   "execution_count": 70,
   "metadata": {},
   "outputs": [
    {
     "data": {
      "text/html": [
       "<div>\n",
       "<style scoped>\n",
       "    .dataframe tbody tr th:only-of-type {\n",
       "        vertical-align: middle;\n",
       "    }\n",
       "\n",
       "    .dataframe tbody tr th {\n",
       "        vertical-align: top;\n",
       "    }\n",
       "\n",
       "    .dataframe thead th {\n",
       "        text-align: right;\n",
       "    }\n",
       "</style>\n",
       "<table border=\"1\" class=\"dataframe\">\n",
       "  <thead>\n",
       "    <tr style=\"text-align: right;\">\n",
       "      <th></th>\n",
       "      <th>Facil_Type</th>\n",
       "      <th>Facil_Stat</th>\n",
       "      <th>Facil_Id</th>\n",
       "    </tr>\n",
       "  </thead>\n",
       "  <tbody>\n",
       "    <tr>\n",
       "      <th>37999</th>\n",
       "      <td>WELL</td>\n",
       "      <td>DM</td>\n",
       "      <td>217167</td>\n",
       "    </tr>\n",
       "    <tr>\n",
       "      <th>38000</th>\n",
       "      <td>WELL</td>\n",
       "      <td>DA</td>\n",
       "      <td>217951</td>\n",
       "    </tr>\n",
       "    <tr>\n",
       "      <th>38001</th>\n",
       "      <td>WELL</td>\n",
       "      <td>PA</td>\n",
       "      <td>217169</td>\n",
       "    </tr>\n",
       "    <tr>\n",
       "      <th>38004</th>\n",
       "      <td>WELL</td>\n",
       "      <td>DA</td>\n",
       "      <td>217172</td>\n",
       "    </tr>\n",
       "    <tr>\n",
       "      <th>38005</th>\n",
       "      <td>WELL</td>\n",
       "      <td>DA</td>\n",
       "      <td>217173</td>\n",
       "    </tr>\n",
       "    <tr>\n",
       "      <th>...</th>\n",
       "      <td>...</td>\n",
       "      <td>...</td>\n",
       "      <td>...</td>\n",
       "    </tr>\n",
       "    <tr>\n",
       "      <th>41972</th>\n",
       "      <td>WELL</td>\n",
       "      <td>AL</td>\n",
       "      <td>437234</td>\n",
       "    </tr>\n",
       "    <tr>\n",
       "      <th>41981</th>\n",
       "      <td>WELL</td>\n",
       "      <td>AL</td>\n",
       "      <td>292200</td>\n",
       "    </tr>\n",
       "    <tr>\n",
       "      <th>41983</th>\n",
       "      <td>WELL</td>\n",
       "      <td>DA</td>\n",
       "      <td>217952</td>\n",
       "    </tr>\n",
       "    <tr>\n",
       "      <th>41984</th>\n",
       "      <td>WELL</td>\n",
       "      <td>pa</td>\n",
       "      <td>217953</td>\n",
       "    </tr>\n",
       "    <tr>\n",
       "      <th>41985</th>\n",
       "      <td>WELL</td>\n",
       "      <td>TA</td>\n",
       "      <td>217954</td>\n",
       "    </tr>\n",
       "  </tbody>\n",
       "</table>\n",
       "<p>3881 rows × 3 columns</p>\n",
       "</div>"
      ],
      "text/plain": [
       "      Facil_Type Facil_Stat  Facil_Id\n",
       "37999       WELL         DM    217167\n",
       "38000       WELL         DA    217951\n",
       "38001       WELL         PA    217169\n",
       "38004       WELL         DA    217172\n",
       "38005       WELL         DA    217173\n",
       "...          ...        ...       ...\n",
       "41972       WELL         AL    437234\n",
       "41981       WELL         AL    292200\n",
       "41983       WELL         DA    217952\n",
       "41984       WELL         pa    217953\n",
       "41985       WELL         TA    217954\n",
       "\n",
       "[3881 rows x 3 columns]"
      ]
     },
     "execution_count": 70,
     "metadata": {},
     "output_type": "execute_result"
    }
   ],
   "source": [
    "df_Raton_CO[['Facil_Type',  'Facil_Stat', 'Facil_Id']]"
   ]
  },
  {
   "cell_type": "code",
   "execution_count": 71,
   "metadata": {},
   "outputs": [
    {
     "data": {
      "text/plain": [
       "3077"
      ]
     },
     "execution_count": 71,
     "metadata": {},
     "output_type": "execute_result"
    }
   ],
   "source": [
    "status_list = ['PR', 'PA', 'TA']# 'SU', 'SI']\n",
    "df_Raton_CO_act = df_Raton_CO[df_Raton_CO['Facil_Stat'].isin(status_list)]\n",
    "len(df_Raton_CO_act)"
   ]
  },
  {
   "cell_type": "code",
   "execution_count": 72,
   "metadata": {},
   "outputs": [],
   "source": [
    "def top_parse(text):\n",
    "    tops = text.split('<!-- LOOP FOR EACH Formation WITHIN WELLBORE -->')[1].split('<!-- END Formation LOOP -->')[0]\n",
    "    tops = tops.replace('\\r','').replace('\\n','').replace('\\t','').strip()\n",
    "    tops = tops.split('<tr>')\n",
    "    tops = [x.strip() for x in tops if len(x) > 0]\n",
    "    \n",
    "    formations = {}\n",
    "    for top in tops:\n",
    "        cols = top.split('<td')\n",
    "        cols = [x.strip() for x in cols if len(x) > 0]    \n",
    "        formation = cols[0].split('color=\"Navy\">')[1].split(' ')[0]\n",
    "        depth = eval(cols[1].split('<font size=\"2\">')[1].split('</font>')[0])\n",
    "        formations[formation] = depth\n",
    "    return formations"
   ]
  },
  {
   "cell_type": "code",
   "execution_count": 87,
   "metadata": {},
   "outputs": [],
   "source": [
    "#FOR loop to extract all formation tops available in COGCC Raton Basin\n",
    "\n",
    "wells_list = df_Raton_CO_act.api10.values[0:49]\n",
    "#wells_list = [507106224, 507106360, 507106650, 507106111, 507160012, 507160013]\n",
    "wells_tops = np.array([])\n",
    "baseURL = 'https://cogcc.state.co.us/cogis/FacilityDetail.asp?facid='\n",
    "tailURL = '&type=WELL'\n",
    "\n",
    "for idx in range(len(wells_list)):\n",
    "    url = baseURL + str(wells_list[idx])[1:] + tailURL\n",
    "    r = requests.get(url)\n",
    "    #print('URL:', url)\n",
    "    #wells_tops = np.append(wells_tops,[wells_list[idx],top_parse(r.text)], axis=0)\n",
    "    try:\n",
    "          wells_tops = np.append(wells_tops,[wells_list[idx],top_parse(r.text)], axis=0)\n",
    "    except:\n",
    "        pass"
   ]
  },
  {
   "cell_type": "code",
   "execution_count": 88,
   "metadata": {},
   "outputs": [
    {
     "name": "stdout",
     "output_type": "stream",
     "text": [
      "[]\n"
     ]
    }
   ],
   "source": [
    "print(wells_tops)"
   ]
  },
  {
   "cell_type": "code",
   "execution_count": 80,
   "metadata": {},
   "outputs": [],
   "source": [
    "#pd.DataFrame(wells_tops).to_csv('./data/6038_tops.csv')"
   ]
  },
  {
   "cell_type": "code",
   "execution_count": 83,
   "metadata": {},
   "outputs": [],
   "source": [
    "tops_Raton = pd.DataFrame(wells_tops)"
   ]
  },
  {
   "cell_type": "code",
   "execution_count": 85,
   "metadata": {},
   "outputs": [
    {
     "data": {
      "text/html": [
       "<div>\n",
       "<style scoped>\n",
       "    .dataframe tbody tr th:only-of-type {\n",
       "        vertical-align: middle;\n",
       "    }\n",
       "\n",
       "    .dataframe tbody tr th {\n",
       "        vertical-align: top;\n",
       "    }\n",
       "\n",
       "    .dataframe thead th {\n",
       "        text-align: right;\n",
       "    }\n",
       "</style>\n",
       "<table border=\"1\" class=\"dataframe\">\n",
       "  <thead>\n",
       "    <tr style=\"text-align: right;\">\n",
       "      <th></th>\n",
       "      <th>0</th>\n",
       "    </tr>\n",
       "  </thead>\n",
       "  <tbody>\n",
       "    <tr>\n",
       "      <th>0</th>\n",
       "      <td>507105004</td>\n",
       "    </tr>\n",
       "    <tr>\n",
       "      <th>1</th>\n",
       "      <td>{}</td>\n",
       "    </tr>\n",
       "    <tr>\n",
       "      <th>2</th>\n",
       "      <td>507105010</td>\n",
       "    </tr>\n",
       "    <tr>\n",
       "      <th>3</th>\n",
       "      <td>{'NIOBRARA': 3736, 'GREENHORN': 4693, 'DAKOTA'...</td>\n",
       "    </tr>\n",
       "    <tr>\n",
       "      <th>4</th>\n",
       "      <td>507105017</td>\n",
       "    </tr>\n",
       "    <tr>\n",
       "      <th>5</th>\n",
       "      <td>{}</td>\n",
       "    </tr>\n",
       "    <tr>\n",
       "      <th>6</th>\n",
       "      <td>507105027</td>\n",
       "    </tr>\n",
       "    <tr>\n",
       "      <th>7</th>\n",
       "      <td>{}</td>\n",
       "    </tr>\n",
       "    <tr>\n",
       "      <th>8</th>\n",
       "      <td>507105028</td>\n",
       "    </tr>\n",
       "    <tr>\n",
       "      <th>9</th>\n",
       "      <td>{}</td>\n",
       "    </tr>\n",
       "  </tbody>\n",
       "</table>\n",
       "</div>"
      ],
      "text/plain": [
       "                                                   0\n",
       "0                                          507105004\n",
       "1                                                 {}\n",
       "2                                          507105010\n",
       "3  {'NIOBRARA': 3736, 'GREENHORN': 4693, 'DAKOTA'...\n",
       "4                                          507105017\n",
       "5                                                 {}\n",
       "6                                          507105027\n",
       "7                                                 {}\n",
       "8                                          507105028\n",
       "9                                                 {}"
      ]
     },
     "execution_count": 85,
     "metadata": {},
     "output_type": "execute_result"
    }
   ],
   "source": [
    "tops_Raton.head(10)"
   ]
  },
  {
   "cell_type": "code",
   "execution_count": null,
   "metadata": {},
   "outputs": [],
   "source": []
  }
 ],
 "metadata": {
  "kernelspec": {
   "display_name": "Python 3",
   "language": "python",
   "name": "python3"
  },
  "language_info": {
   "codemirror_mode": {
    "name": "ipython",
    "version": 3
   },
   "file_extension": ".py",
   "mimetype": "text/x-python",
   "name": "python",
   "nbconvert_exporter": "python",
   "pygments_lexer": "ipython3",
   "version": "3.7.6"
  }
 },
 "nbformat": 4,
 "nbformat_minor": 4
}
